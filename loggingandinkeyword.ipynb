{
 "cells": [
  {
   "cell_type": "code",
   "execution_count": 22,
   "metadata": {},
   "outputs": [],
   "source": [
    "user=dict(first_name='Amit',Last_name='Kushwha' , age =18,fav= ['movies','basketball','food'])"
   ]
  },
  {
   "cell_type": "code",
   "execution_count": 18,
   "metadata": {},
   "outputs": [
    {
     "name": "stdout",
     "output_type": "stream",
     "text": [
      "Present\n"
     ]
    }
   ],
   "source": [
    "\n",
    "if   'Amit' in user.values() :  # valuse method\n",
    "    print(\"Present\")\n",
    "else :\n",
    "    print('Not prestnt ')\n",
    "\n",
    "    "
   ]
  },
  {
   "cell_type": "code",
   "execution_count": 26,
   "metadata": {},
   "outputs": [
    {
     "name": "stdout",
     "output_type": "stream",
     "text": [
      "Present\n"
     ]
    }
   ],
   "source": [
    "if 'age' in user:   # check it by key \n",
    "    print(\"Present\")\n",
    "else :\n",
    "    print(\"Absent\")\n"
   ]
  },
  {
   "cell_type": "code",
   "execution_count": 29,
   "metadata": {},
   "outputs": [
    {
     "name": "stdout",
     "output_type": "stream",
     "text": [
      "first_name\n",
      "Last_name\n",
      "age\n",
      "fav\n"
     ]
    }
   ],
   "source": [
    "for i in user.keys(): # print values using loop \n",
    "    print(i)"
   ]
  },
  {
   "cell_type": "code",
   "execution_count": 27,
   "metadata": {},
   "outputs": [
    {
     "name": "stdout",
     "output_type": "stream",
     "text": [
      "first_name\n",
      "Last_name\n",
      "age\n",
      "fav\n"
     ]
    }
   ],
   "source": [
    "for i in user: # print  key using loop \n",
    "    print(i)\n"
   ]
  },
  {
   "cell_type": "code",
   "execution_count": 30,
   "metadata": {},
   "outputs": [
    {
     "name": "stdout",
     "output_type": "stream",
     "text": [
      "Amit\n",
      "Kushwha\n",
      "18\n",
      "['movies', 'basketball', 'food']\n"
     ]
    }
   ],
   "source": [
    "for i in user :  # print value of key in another method \n",
    "    print(user[i])"
   ]
  },
  {
   "cell_type": "code",
   "execution_count": 34,
   "metadata": {},
   "outputs": [
    {
     "name": "stdout",
     "output_type": "stream",
     "text": [
      "keys first_name int Amit\n",
      "keys Last_name int Kushwha\n",
      "keys age int 18\n",
      "keys fav int ['movies', 'basketball', 'food']\n",
      "dict_items([('first_name', 'Amit'), ('Last_name', 'Kushwha'), ('age', 18), ('fav', ['movies', 'basketball', 'food'])])\n",
      "<class 'dict_items'>\n"
     ]
    }
   ],
   "source": [
    "for keys,values in user.items():\n",
    "    print(f\"keys {keys} int {values }\")\n",
    "\n",
    "print(user.items())\n",
    "print(type(user.items()))"
   ]
  }
 ],
 "metadata": {
  "kernelspec": {
   "display_name": "Python 3",
   "language": "python",
   "name": "python3"
  },
  "language_info": {
   "codemirror_mode": {
    "name": "ipython",
    "version": 3
   },
   "file_extension": ".py",
   "mimetype": "text/x-python",
   "name": "python",
   "nbconvert_exporter": "python",
   "pygments_lexer": "ipython3",
   "version": "3.11.7"
  }
 },
 "nbformat": 4,
 "nbformat_minor": 2
}

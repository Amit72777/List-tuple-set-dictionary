{
 "cells": [
  {
   "cell_type": "markdown",
   "metadata": {},
   "source": [
    "#define a fucntion that list of string\n",
    "list containg revesrs of every string \n",
    "use list comprehension "
   ]
  },
  {
   "cell_type": "code",
   "execution_count": 3,
   "metadata": {},
   "outputs": [
    {
     "name": "stdout",
     "output_type": "stream",
     "text": [
      "['tima', 'muhsuK', 'ujaR']\n"
     ]
    }
   ],
   "source": [
    "def reverstr(a):\n",
    "    return [ input()[::-1]  for  i in range(a)]   # list comprehension\n",
    "\n",
    "\n",
    "a = int(input(\"enter the Numver of output \"))  # input the size of list \n",
    "print(reverstr(a))\n"
   ]
  },
  {
   "cell_type": "markdown",
   "metadata": {},
   "source": [
    "Q: using list comparistion create  the list of even numbers "
   ]
  },
  {
   "cell_type": "code",
   "execution_count": 1,
   "metadata": {},
   "outputs": [
    {
     "name": "stdout",
     "output_type": "stream",
     "text": [
      "[2, 4, 6, 8, 10]\n"
     ]
    }
   ],
   "source": [
    "a = int(input(\"Enter the nuber \"))\n",
    "num = [ i  for i in range(1,a+1) if i%2==0]\n",
    "print(num)"
   ]
  },
  {
   "cell_type": "markdown",
   "metadata": {},
   "source": [
    "Question 3: Define a function that takes a list as input and returns a new list containing only the elements that are integers or floats from the input list"
   ]
  },
  {
   "cell_type": "code",
   "execution_count": 12,
   "metadata": {},
   "outputs": [
    {
     "name": "stdout",
     "output_type": "stream",
     "text": [
      "[34, 53, 34.65, 645, 534.3]\n"
     ]
    }
   ],
   "source": [
    "def find_num(l1):\n",
    "    return [ i for i in l1 if type(i) in [int ,float]]\n",
    "\n",
    "lsit = [ ('reku','ere'), {\"name\":\"Amit \",'age':19},34,53,34.65,645,534.3,'hello',\"kaam\"]\n",
    "print(find_num(lsit))"
   ]
  },
  {
   "cell_type": "markdown",
   "metadata": {},
   "source": [
    "Create a program that takes a number as input and finds even and odd numbers from 1 to that number, placing them into a single list using a single list comprehension"
   ]
  },
  {
   "cell_type": "code",
   "execution_count": 2,
   "metadata": {},
   "outputs": [
    {
     "name": "stdout",
     "output_type": "stream",
     "text": [
      "[[2, 4, 6, 8], [1, 3, 5, 7]]\n"
     ]
    }
   ],
   "source": [
    "nu = int(input(\"Enter the number: \"))\n",
    "even_odd = [    [i for i in range(1, nu + 1) if i % 2 == 0], [j for j in range(1, nu + 1) if j % 2 != 0]    ]\n",
    "print(even_odd)\n"
   ]
  }
 ],
 "metadata": {
  "kernelspec": {
   "display_name": "Python 3",
   "language": "python",
   "name": "python3"
  },
  "language_info": {
   "codemirror_mode": {
    "name": "ipython",
    "version": 3
   },
   "file_extension": ".py",
   "mimetype": "text/x-python",
   "name": "python",
   "nbconvert_exporter": "python",
   "pygments_lexer": "ipython3",
   "version": "3.11.7"
  }
 },
 "nbformat": 4,
 "nbformat_minor": 2
}

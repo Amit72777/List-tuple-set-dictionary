{
 "cells": [
  {
   "cell_type": "code",
   "execution_count": 2,
   "metadata": {},
   "outputs": [
    {
     "name": "stdout",
     "output_type": "stream",
     "text": [
      "{0: 0, 1: 1, 2: 4, 3: 9, 4: 16, 5: 25}\n",
      "<class 'dict'>\n"
     ]
    }
   ],
   "source": [
    "a = { i:i**2 for i in range(6)}\n",
    "print(a)\n",
    "print(type(a))"
   ]
  },
  {
   "cell_type": "code",
   "execution_count": 9,
   "metadata": {},
   "outputs": [
    {
     "name": "stdout",
     "output_type": "stream",
     "text": [
      "{'name': 'Amit', 'age ': '24', 'favrote ': 'kaho na pyar h ', 'hobii': 'basketball', 'class': 'b.tech (ai\\\\ds'}\n",
      "<class 'type'>\n"
     ]
    }
   ],
   "source": [
    "dic = { input(f\"{i}keys\" ) : input(f\"{i} value\") for i in  range(5)}\n",
    "print(dic)\n",
    "print(type)"
   ]
  },
  {
   "cell_type": "code",
   "execution_count": 18,
   "metadata": {},
   "outputs": [
    {
     "name": "stdout",
     "output_type": "stream",
     "text": [
      "dict_values([3, 1, 1, 1, 1, 1, 1])\n"
     ]
    }
   ],
   "source": [
    "# count string\n",
    "char = input(\"Enter the string\")\n",
    "Count = { i.lower()[0]:char.lower().count(i) for i in char}\n",
    "print(Count)"
   ]
  }
 ],
 "metadata": {
  "kernelspec": {
   "display_name": "Python 3",
   "language": "python",
   "name": "python3"
  },
  "language_info": {
   "codemirror_mode": {
    "name": "ipython",
    "version": 3
   },
   "file_extension": ".py",
   "mimetype": "text/x-python",
   "name": "python",
   "nbconvert_exporter": "python",
   "pygments_lexer": "ipython3",
   "version": "3.11.6"
  }
 },
 "nbformat": 4,
 "nbformat_minor": 2
}
